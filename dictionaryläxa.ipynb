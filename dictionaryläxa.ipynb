{
 "metadata": {
  "language_info": {
   "codemirror_mode": {
    "name": "ipython",
    "version": 3
   },
   "file_extension": ".py",
   "mimetype": "text/x-python",
   "name": "python",
   "nbconvert_exporter": "python",
   "pygments_lexer": "ipython3",
   "version": "3.8.3-final"
  },
  "orig_nbformat": 2,
  "kernelspec": {
   "name": "python3",
   "display_name": "Python 3.8.3 64-bit (conda)",
   "metadata": {
    "interpreter": {
     "hash": "1ac8037a84088f45a7e3ea4484c3717017a662ee28aa9a2809eaac560ae046b3"
    }
   }
  }
 },
 "nbformat": 4,
 "nbformat_minor": 2,
 "cells": [
  {
   "cell_type": "code",
   "execution_count": 1,
   "metadata": {},
   "outputs": [
    {
     "output_type": "stream",
     "name": "stdout",
     "text": [
      "Alla kurser är sammalagd värda 800 poäng\n"
     ]
    }
   ],
   "source": [
    "#1\n",
    "\n",
    "kurser = dict(\n",
    "    matte = 100,\n",
    "    fysik = 100,\n",
    "    programmering = 100,\n",
    "    webb = 100, \n",
    "    idrott = 100,\n",
    "    daodac = 100, \n",
    "    engelska = 100, \n",
    "    svenska = 100, \n",
    "\n",
    ")\n",
    "\n",
    "summa = 0\n",
    "\n",
    "for key in kurser:\n",
    "    summa += kurser[key]\n",
    "print(f\"Alla kurser är sammalagd värda {summa} poäng\")"
   ]
  },
  {
   "cell_type": "code",
   "execution_count": 2,
   "metadata": {},
   "outputs": [
    {
     "output_type": "stream",
     "name": "stdout",
     "text": [
      "1: 16797\n2: 16791\n3: 16529\n4: 16589\n5: 16534\n6: 16760\n"
     ]
    }
   ],
   "source": [
    "#2\n",
    "import random as rnd\n",
    "\n",
    "kast = {\n",
    "    \"1\": 0,\n",
    "    \"2\": 0,\n",
    "    \"3\": 0,\n",
    "    \"4\": 0,\n",
    "    \"5\": 0,\n",
    "    \"6\": 0\n",
    "}\n",
    "\n",
    "for i in range(100000):\n",
    "    x = rnd.randint(1,6)\n",
    "    for y in range(1,7):\n",
    "        if y == x:\n",
    "            kast[f\"{y}\"] += 1\n",
    "\n",
    "for key in kast:\n",
    "    print(f\"{key}: {kast[key]}\")"
   ]
  },
  {
   "cell_type": "code",
   "execution_count": 5,
   "metadata": {},
   "outputs": [
    {
     "output_type": "stream",
     "name": "stdout",
     "text": [
      "Typ: GrÃ¤s/Gift, 1\nTyp: Eld, 4\n"
     ]
    }
   ],
   "source": [
    "#3\n",
    "\n",
    "pokedex = {}\n",
    "\n",
    "with open(\"pokemonlista.txt\", \"r\") as f1:\n",
    "    for pokemon in f1:\n",
    "        i = pokemon.split()\n",
    "        pokedex[i[1]]=f\"Typ: {i[2]}, {i[0]}\"\n",
    "\n",
    "print(pokedex[\"Bulbasaur\"])\n",
    "print(pokedex[\"Charmander\"])\n"
   ]
  },
  {
   "cell_type": "code",
   "execution_count": null,
   "metadata": {},
   "outputs": [],
   "source": []
  }
 ]
}