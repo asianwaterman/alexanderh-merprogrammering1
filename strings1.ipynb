{
 "metadata": {
  "language_info": {
   "codemirror_mode": {
    "name": "ipython",
    "version": 3
   },
   "file_extension": ".py",
   "mimetype": "text/x-python",
   "name": "python",
   "nbconvert_exporter": "python",
   "pygments_lexer": "ipython3",
   "version": "3.8.3-final"
  },
  "orig_nbformat": 2,
  "kernelspec": {
   "name": "python3",
   "display_name": "Python 3"
  }
 },
 "nbformat": 4,
 "nbformat_minor": 2,
 "cells": [
  {
   "cell_type": "code",
   "execution_count": 13,
   "metadata": {},
   "outputs": [
    {
     "output_type": "stream",
     "name": "stdout",
     "text": [
      "Ditt namn innehåller 9 bokstäver\n"
     ]
    }
   ],
   "source": [
    "#uppgift 1\n",
    "\n",
    "namn = input(\"Ange ditt namn: \")\n",
    "\n",
    "print(f\"Ditt namn innehåller {len(namn)} bokstäver\")"
   ]
  },
  {
   "cell_type": "code",
   "execution_count": 8,
   "metadata": {},
   "outputs": [
    {
     "output_type": "stream",
     "name": "stdout",
     "text": [
      "Meningen innehåller 15 ord\n"
     ]
    }
   ],
   "source": [
    "#uppgift 2 \"En bild säger mer än tusen ord, en matematisk formel säger mer än tusen bilder\"\n",
    "\n",
    "\n",
    "mening = [\"En\", \"bild\", \"säger\", \"mer\", \"än\", \"tusen\", \"ord\", \"en\", \"matematisk\", \"formel\", \"säger\", \"mer\", \"än\", \"tusen\", \"bilder\"]\n",
    "\n",
    "print(f\"Meningen innehåller {len(mening)} ord\")"
   ]
  },
  {
   "cell_type": "code",
   "execution_count": 2,
   "metadata": {},
   "outputs": [
    {
     "output_type": "stream",
     "name": "stdout",
     "text": [
      "anna är anna baklänges vilket är en palindrom\n"
     ]
    }
   ],
   "source": [
    "#uppgift 3a\n",
    "\n",
    "följd = input(\"Ange en följd av teckan för att se om det är en palindrom: \")\n",
    "\n",
    "if följd[::-1] == följd:\n",
    "    print(f\"{följd} är {följd[::-1]} baklänges vilket är en palindrom\")\n",
    "else:\n",
    "    print(\"Din följd är inte en palindrom\")\n",
    "\n"
   ]
  },
  {
   "cell_type": "code",
   "execution_count": 14,
   "metadata": {},
   "outputs": [
    {
     "output_type": "stream",
     "name": "stdout",
     "text": [
      "(hah) är (hah) baklänges vilket är en palindrom\n"
     ]
    }
   ],
   "source": [
    "#uppgift 3b \n",
    "mening = str(input(\"Ange en valfri mening för att se om det är en palindrom: \"))\n",
    "\n",
    "\n",
    "   \n",
    "\n",
    "\n",
    "\n",
    "\n"
   ]
  },
  {
   "cell_type": "code",
   "execution_count": null,
   "metadata": {},
   "outputs": [],
   "source": []
  }
 ]
}