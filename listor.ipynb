{
 "metadata": {
  "language_info": {
   "codemirror_mode": {
    "name": "ipython",
    "version": 3
   },
   "file_extension": ".py",
   "mimetype": "text/x-python",
   "name": "python",
   "nbconvert_exporter": "python",
   "pygments_lexer": "ipython3",
   "version": "3.8.3-final"
  },
  "orig_nbformat": 2,
  "kernelspec": {
   "name": "python3",
   "display_name": "Python 3"
  }
 },
 "nbformat": 4,
 "nbformat_minor": 2,
 "cells": [
  {
   "source": [
    "# Listor\n",
    "\n",
    "* indexering\n",
    "* append()\n",
    "* loopa genom lista\n",
    "* list comprehension\n",
    "* 2D lista\n",
    "\n",
    "\n"
   ],
   "cell_type": "markdown",
   "metadata": {}
  },
  {
   "cell_type": "code",
   "execution_count": null,
   "metadata": {},
   "outputs": [],
   "source": [
    "# skapar en lista\n",
    "frukter = [\"äpple\", \"päron\", \"banan\", \"kiwi\", \"jordgubbe\"]\n",
    "\n",
    "# indexering\n",
    "print(f\"Fruktlista: {frukter}\")\n",
    "print(f\"Frukter[0]: {frukter[0]}\")\n",
    "print(f\"Frukter[-1]: {frukter[-1]}\")\n",
    "print(f\"Frukter[3]: {frukter[3]}\")\n",
    "print(f\"Frukter[::-1]: {frukter[::-1]}\")\n",
    "print(\"\\n\")\n",
    "\n",
    "#loopar igenom listan\n",
    "for frukt in frukter:\n",
    "    print(f\"Frukt: {frukt}\")"
   ]
  },
  {
   "cell_type": "code",
   "execution_count": 2,
   "metadata": {},
   "outputs": [
    {
     "output_type": "error",
     "ename": "MemoryError",
     "evalue": "",
     "traceback": [
      "\u001b[1;31m---------------------------------------------------------------------------\u001b[0m",
      "\u001b[1;31mMemoryError\u001b[0m                               Traceback (most recent call last)",
      "\u001b[1;32m<ipython-input-2-1769cc748469>\u001b[0m in \u001b[0;36m<module>\u001b[1;34m\u001b[0m\n\u001b[0;32m      7\u001b[0m \u001b[1;33m\u001b[0m\u001b[0m\n\u001b[0;32m      8\u001b[0m \u001b[1;32mfor\u001b[0m \u001b[0mfrukt\u001b[0m \u001b[1;32min\u001b[0m \u001b[0mfruktsallad\u001b[0m\u001b[1;33m:\u001b[0m\u001b[1;33m\u001b[0m\u001b[1;33m\u001b[0m\u001b[0m\n\u001b[1;32m----> 9\u001b[1;33m     \u001b[0mfruktsallad\u001b[0m\u001b[1;33m.\u001b[0m\u001b[0mappend\u001b[0m\u001b[1;33m(\u001b[0m\u001b[0mfrukt\u001b[0m\u001b[1;33m)\u001b[0m\u001b[1;33m\u001b[0m\u001b[1;33m\u001b[0m\u001b[0m\n\u001b[0m\u001b[0;32m     10\u001b[0m \u001b[1;33m\u001b[0m\u001b[0m\n\u001b[0;32m     11\u001b[0m \u001b[1;33m\u001b[0m\u001b[0m\n",
      "\u001b[1;31mMemoryError\u001b[0m: "
     ]
    }
   ],
   "source": [
    "grönsaker = [\"tomat\", \"gurka\", \"sallad\", \"majs\"]\n",
    "frukter = [\"äpple\", \"päron\", \"banan\", \"kiwi\"]\n",
    "fruktsallad = [] # tom lista\n",
    "\n",
    "for grönsak in grönsaker:\n",
    "    fruktsallad.append(grönsak)\n",
    "\n",
    "for frukt in fruktsallad:\n",
    "    fruktsallad.append(frukt)\n",
    "\n",
    "print(fruktsallad)\n"
   ]
  },
  {
   "cell_type": "code",
   "execution_count": null,
   "metadata": {},
   "outputs": [],
   "source": [
    "import matplotlib.pyplot as plt\n",
    "\n",
    "# list comprehension\n",
    "y = [2*x-2 for x in range(10)]\n",
    "x = [x for x in range(10)]\n",
    "print(f\"x: x\")\n",
    "print(f\"y: y\")\n",
    "\n",
    "plt.plot(x,y)\n",
    "plt.xlabel(\"x\")\n",
    "plt.ylabel(\"y\")\n",
    "plt.show()\n",
    "\n",
    "\n"
   ]
  },
  {
   "cell_type": "code",
   "execution_count": null,
   "metadata": {},
   "outputs": [],
   "source": [
    "# 2D lista\n",
    "\n",
    "tabell = []\n",
    "\n",
    "for i in range(6):\n",
    "    rad = [x*i for x in range(6)]\n",
    "    tabell.append(rad)\n",
    "\n",
    "print(tabell)\n",
    "print(f\"tabell[3]: {tabell[3]}\")\n",
    "print(f\"tabell[3][3]: {tabell[3][3]}\")\n"
   ]
  },
  {
   "cell_type": "code",
   "execution_count": null,
   "metadata": {},
   "outputs": [],
   "source": []
  }
 ]
}