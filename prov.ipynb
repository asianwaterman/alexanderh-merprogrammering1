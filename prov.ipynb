{
 "metadata": {
  "language_info": {
   "codemirror_mode": {
    "name": "ipython",
    "version": 3
   },
   "file_extension": ".py",
   "mimetype": "text/x-python",
   "name": "python",
   "nbconvert_exporter": "python",
   "pygments_lexer": "ipython3",
   "version": "3.8.3-final"
  },
  "orig_nbformat": 2,
  "kernelspec": {
   "name": "python3",
   "display_name": "Python 3",
   "language": "python"
  }
 },
 "nbformat": 4,
 "nbformat_minor": 2,
 "cells": [
  {
   "cell_type": "code",
   "execution_count": 2,
   "metadata": {},
   "outputs": [
    {
     "output_type": "stream",
     "name": "stdout",
     "text": [
      "3.0\n"
     ]
    }
   ],
   "source": [
    "tal1 = int(input(\"Ange tal 1: \"))\n",
    "tal2 = int(input(\"Ange tal 2: \"))\n",
    "tal3 = int(input(\"Ange tal 3: \"))\n",
    "\n",
    "svar = (tal1+tal2+tal3)/3\n",
    "\n",
    "print(svar)\n",
    "\n",
    "\n",
    "\n",
    "\n"
   ]
  },
  {
   "cell_type": "code",
   "execution_count": 14,
   "metadata": {},
   "outputs": [
    {
     "output_type": "stream",
     "name": "stdout",
     "text": [
      "267.94666666666666\n"
     ]
    }
   ],
   "source": [
    "r = int(input(\"Ange en radie: \"))\n",
    "\n",
    "def v(r):\n",
    "    return ((4 * 3.14 * r**3)/3)\n",
    "\n",
    "print(v(r))"
   ]
  },
  {
   "cell_type": "code",
   "execution_count": null,
   "metadata": {},
   "outputs": [],
   "source": [
    "mening = str(input(\"Ange en mening: \"))\n"
   ]
  },
  {
   "cell_type": "code",
   "execution_count": 8,
   "metadata": {},
   "outputs": [
    {
     "output_type": "stream",
     "name": "stdout",
     "text": [
      "Rätt\n"
     ]
    }
   ],
   "source": [
    "import random as rnd\n",
    "\n",
    "tal1 = rnd.randint(1,10)\n",
    "tal2 = rnd.randint(1,10)\n",
    "svar = int(input(f\"Vad är {tal1} gånger {tal2}: \"))\n",
    "\n",
    "if svar == tal1*tal2:\n",
    "    print(\"Rätt\")\n",
    "else:\n",
    "    print(\"Fel\")\n"
   ]
  },
  {
   "cell_type": "code",
   "execution_count": 27,
   "metadata": {},
   "outputs": [
    {
     "output_type": "stream",
     "name": "stdout",
     "text": [
      "3\n"
     ]
    }
   ],
   "source": [
    "import random as rnd\n",
    "\n",
    "femmor = 0\n",
    "\n",
    "for i in range(1, 1001):\n",
    "    kast = rnd.randint(1,6) \n",
    "    if kast == 5:\n",
    "        femmor += 1\n",
    "    else:\n",
    "        femmor += 0\n",
    "\n",
    "print(femmor)\n",
    "\n"
   ]
  },
  {
   "cell_type": "code",
   "execution_count": 55,
   "metadata": {},
   "outputs": [
    {
     "output_type": "stream",
     "name": "stdout",
     "text": [
      "8 tusenlappar, 1 femhundralappar, 1 tvåhundralappar, 0 hundralappar, 0 femtiolappar, 1 tjugolappar, 1 tiokronor, 0 femkronor, 4 enkronor, "
     ]
    }
   ],
   "source": [
    "summa = int(input(\"Ange en summa pengar: \"))\n",
    "\n",
    "def växla(summa):\n",
    "    kontanter = [1000, 500, 200, 100, 50, 20, 10, 5, 1]\n",
    "    sedlar = [\"tusenlappar\", \"femhundralappar\", \"tvåhundralappar\", \"hundralappar\", \"femtiolappar\", \"tjugolappar\", \"tiokronor\", \"femkronor\", \"enkronor\"]\n",
    "\n",
    "    for i in range(len(kontanter)):\n",
    "        antal = summa//kontanter[i]\n",
    "        summa %= kontanter[i]\n",
    "        print(f\"{antal} {sedlar[i]}\", end=\", \")\n",
    "    \n",
    "växla(summa)\n",
    "\n",
    "\n"
   ]
  },
  {
   "cell_type": "code",
   "execution_count": null,
   "metadata": {},
   "outputs": [],
   "source": []
  }
 ]
}