{
 "metadata": {
  "language_info": {
   "codemirror_mode": {
    "name": "ipython",
    "version": 3
   },
   "file_extension": ".py",
   "mimetype": "text/x-python",
   "name": "python",
   "nbconvert_exporter": "python",
   "pygments_lexer": "ipython3",
   "version": "3.8.3-final"
  },
  "orig_nbformat": 2,
  "kernelspec": {
   "name": "python3",
   "display_name": "Python 3.8.3 64-bit (conda)",
   "metadata": {
    "interpreter": {
     "hash": "1ac8037a84088f45a7e3ea4484c3717017a662ee28aa9a2809eaac560ae046b3"
    }
   }
  }
 },
 "nbformat": 4,
 "nbformat_minor": 2,
 "cells": [
  {
   "source": [
    "# Dictionary\n",
    "- key:value par\n",
    "- metafor: vanlig ordlista/lexikon"
   ],
   "cell_type": "markdown",
   "metadata": {}
  },
  {
   "cell_type": "code",
   "execution_count": 11,
   "metadata": {},
   "outputs": [
    {
     "output_type": "stream",
     "name": "stdout",
     "text": [
      "NTI och student\n"
     ]
    }
   ],
   "source": [
    "# syntax för dictionary\n",
    "person = dict(\n",
    "    name = \"Alexander\",\n",
    "    ålder = \"15\",\n",
    "    yrke = \"student\",\n",
    "    arbetsplats = \"NTI\", \n",
    ")\n",
    "\n",
    "print(f\"{person['arbetsplats']} och {person['yrke']}\")"
   ]
  },
  {
   "cell_type": "code",
   "execution_count": 19,
   "metadata": {},
   "outputs": [
    {
     "output_type": "stream",
     "name": "stdout",
     "text": [
      "Ord vi behöver lära oss:\ntilldela  \t ge ett värde till en variabel\ndatastruktur  \t strukturering av data\nsträng  \t sekvens av tecken\ndictionary  \t datastruktur för att spara data i key:value par\ntilldela  \t ge ett värde till en variabel\ndatastruktur  \t strukturering av data\nsträng  \t sekvens av tecken\ndictionary  \t datastruktur för att spara data i key:value par\n"
     ]
    }
   ],
   "source": [
    "# syntax med {}\n",
    "\n",
    "glosor = {\n",
    "    \"tilldela\":\"ge ett värde till en variabel\",\n",
    "    \"datastruktur\":\"strukturering av data\",\n",
    "    \"sträng\":\"sekvens av tecken\"\n",
    "}\n",
    "\n",
    "glosor[\"dictionary\"] = \"datastruktur för att spara data i key:value par\"\n",
    "\n",
    "#print(glosor[\"tilldela\"])\n",
    "\n",
    "print(\"Ord vi behöver lära oss:\")\n",
    "for key in glosor:\n",
    "    print(f\"{key}  \\t {glosor[key]}\")\n",
    "\n",
    "for key, value in glosor.items():\n",
    "     print(f\"{key}  \\t {value}\")\n",
    "\n",
    "\n",
    "\n"
   ]
  },
  {
   "cell_type": "code",
   "execution_count": null,
   "metadata": {},
   "outputs": [],
   "source": []
  }
 ]
}