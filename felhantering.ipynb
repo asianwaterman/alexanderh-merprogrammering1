{
 "metadata": {
  "language_info": {
   "codemirror_mode": {
    "name": "ipython",
    "version": 3
   },
   "file_extension": ".py",
   "mimetype": "text/x-python",
   "name": "python",
   "nbconvert_exporter": "python",
   "pygments_lexer": "ipython3",
   "version": "3.8.3-final"
  },
  "orig_nbformat": 2,
  "kernelspec": {
   "name": "python3",
   "display_name": "Python 3",
   "language": "python"
  }
 },
 "nbformat": 4,
 "nbformat_minor": 2,
 "cells": [
  {
   "cell_type": "code",
   "execution_count": 2,
   "metadata": {},
   "outputs": [
    {
     "output_type": "stream",
     "name": "stdout",
     "text": [
      "1.0\n"
     ]
    }
   ],
   "source": [
    "impor numpy as np #det står impor istället för import\n",
    "\n",
    "def distance(x, y):\n",
    "    return np.sqrt(x+y) #formeln för avsåndet är fel då det ska vara np.sqrt(x**2+y**2)\n",
    "\n",
    "print(distance([0.5,0.5])) # listan får programmet att inte registrera y-värdet så fixat genom att ta bort []-listan"
   ]
  },
  {
   "cell_type": "code",
   "execution_count": 24,
   "metadata": {},
   "outputs": [
    {
     "output_type": "stream",
     "name": "stdout",
     "text": [
      "100 är fyrsiffrigt\n231 är fyrsiffrigt\n10000 är fyrsiffrigt\n10001 är fyrsiffrigt\n-1000 är fyrsiffrigt\n102313 är fyrsiffrigt\n"
     ]
    }
   ],
   "source": [
    "def ar_fyrsiffrigt(tal): #ar_fyrsiffrigt är inte stavat samma uppe och nere. De måste vara samma. \n",
    "    if tal//1000 < 10 : # det ska stå större än (>) istället flr mindre än (<) plus >= för att få med alla möjliga tal. \n",
    "        return True #För att få med negativa tal behövs en elif sats:     elif tal//1000 >= -10: return True\n",
    "    else: \n",
    "        return False\n",
    "\n",
    "# testprogram\n",
    "testtal = [100, 231, 10000, 10001, -1000, 102313]\n",
    "\n",
    "for t in testtal:\n",
    "    if ar_fyrsirigt(t):\n",
    "        print(f\"{t} är fyrsiffrigt\")\n",
    "    else:\n",
    "        print(f\"{t} är inte fyrsiffrigt\")"
   ]
  },
  {
   "cell_type": "code",
   "execution_count": 33,
   "metadata": {},
   "outputs": [
    {
     "output_type": "stream",
     "name": "stdout",
     "text": [
      "Det är bättre att köpa ett månadskort.\n"
     ]
    }
   ],
   "source": [
    "while True:\n",
    "    try:\n",
    "        antal = int(input(\"Hur många gånger i månaden har du tänkt åka spårvagn? \"))\n",
    "        assert tal > 0 and tal <1000\n",
    "        pris1 = int(input(\"Hur mycket kostar ett engångskort? \"))\n",
    "        assert pris1 > 0\n",
    "        pris2 = int(input(\"Hur mycket kostar ett månadskort? \"))\n",
    "        break\n",
    "    except AssertionError:\n",
    "        print(\"Kolla igenom dina inmatningar inte är för höga eller låga\")\n",
    "    except:\n",
    "        print(\"Använd siffror\")\n",
    "\n",
    "engångk = antal*pris1\n",
    "månadk = pris2\n",
    "\n",
    "if engångk > månadk:\n",
    "    print(\"Det är mer värt att köpa ett månadskort\")\n",
    "else: \n",
    "    print(\"Det är mer värt att köpa engångskort\")"
   ]
  },
  {
   "cell_type": "code",
   "execution_count": null,
   "metadata": {},
   "outputs": [],
   "source": []
  }
 ]
}