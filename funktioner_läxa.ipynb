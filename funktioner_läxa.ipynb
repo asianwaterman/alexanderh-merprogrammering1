{
 "metadata": {
  "language_info": {
   "codemirror_mode": {
    "name": "ipython",
    "version": 3
   },
   "file_extension": ".py",
   "mimetype": "text/x-python",
   "name": "python",
   "nbconvert_exporter": "python",
   "pygments_lexer": "ipython3",
   "version": "3.8.3-final"
  },
  "orig_nbformat": 2,
  "kernelspec": {
   "name": "python3",
   "display_name": "Python 3"
  }
 },
 "nbformat": 4,
 "nbformat_minor": 2,
 "cells": [
  {
   "cell_type": "code",
   "execution_count": 8,
   "metadata": {},
   "outputs": [
    {
     "output_type": "stream",
     "name": "stdout",
     "text": [
      "55.0\n"
     ]
    }
   ],
   "source": [
    "\n",
    "\n",
    "def aritmetisk_summa(a1, an):\n",
    "    n = an\n",
    "    print(n*(a1+an)*0.5)\n",
    "    \n",
    "\n",
    "aritmetisk_summa(1,10)\n"
   ]
  },
  {
   "cell_type": "code",
   "execution_count": 5,
   "metadata": {},
   "outputs": [
    {
     "output_type": "stream",
     "name": "stdout",
     "text": [
      "5050.0\n"
     ]
    }
   ],
   "source": [
    "def aritmetisk_summa(a1, an):\n",
    "    print(an*(a1+an)*0.5)\n",
    "\n",
    "aritmetisk_summa(1, 100)"
   ]
  },
  {
   "cell_type": "code",
   "execution_count": 2,
   "metadata": {},
   "outputs": [
    {
     "output_type": "stream",
     "name": "stdout",
     "text": [
      " Den aritmetiska summan är 252.5\n"
     ]
    }
   ],
   "source": [
    "def aritmetisk_summa(a1, an):\n",
    "    return (an*(a1+an)*0.5)\n",
    "    \n",
    "a1 = int(input(\"Ange ett starttal: \"))\n",
    "an = int(input(\"Ange ett sluttal: \"))\n",
    "n = float(input(\"Ange ett n-värde: \"))\n",
    "    \n",
    "print(f\" Den aritmetiska summan är {n*(a1+an)*0.5}\")\n",
    "\n",
    "    \n",
    "\n"
   ]
  },
  {
   "cell_type": "code",
   "execution_count": 15,
   "metadata": {},
   "outputs": [
    {
     "output_type": "stream",
     "name": "stdout",
     "text": [
      "121\n"
     ]
    }
   ],
   "source": [
    "n = int(input(\"Ange ett n-värde: \"))\n",
    "\n",
    "def summa(n):\n",
    "    s = 0\n",
    "    for i in range(1,2*n+2,2):\n",
    "       s += i\n",
    "    return s \n",
    "\n",
    "print(summa(n))  \n",
    "    \n"
   ]
  },
  {
   "cell_type": "code",
   "execution_count": null,
   "metadata": {},
   "outputs": [],
   "source": []
  }
 ]
}