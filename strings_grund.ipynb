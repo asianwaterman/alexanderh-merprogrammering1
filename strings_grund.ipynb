{
 "metadata": {
  "language_info": {
   "codemirror_mode": {
    "name": "ipython",
    "version": 3
   },
   "file_extension": ".py",
   "mimetype": "text/x-python",
   "name": "python",
   "nbconvert_exporter": "python",
   "pygments_lexer": "ipython3",
   "version": "3.8.3-final"
  },
  "orig_nbformat": 2,
  "kernelspec": {
   "name": "python3",
   "display_name": "Python 3"
  }
 },
 "nbformat": 4,
 "nbformat_minor": 2,
 "cells": [
  {
   "source": [
    "# Strängar i Python\n",
    "* indexeringsoperatorn\n",
    "* skivoperatorn :\n",
    "* konkatenering\n",
    "* escape-sekvenser\n",
    "* sträng-manipuleringsfunktioner\n"
   ],
   "cell_type": "markdown",
   "metadata": {}
  },
  {
   "cell_type": "code",
   "execution_count": 6,
   "metadata": {},
   "outputs": [
    {
     "output_type": "stream",
     "name": "stdout",
     "text": [
      "Namn: Alexander Harju/nÅlder: 17/nTelefon: 555\n"
     ]
    }
   ],
   "source": [
    "förnamn = \"Alexander\"\n",
    "efternamn = \"Harju\"\n",
    "\n",
    "# konkaternering = addera strängar\n",
    "\n",
    "namn = förnamn + \" \" + efternamn\n",
    "ålder = \"17\"\n",
    "adress = \"Sankt Sigfridsgatan 57\"\n",
    "telefon = 555\n",
    "\n",
    "personuppg = \"Namn: \" + namn + \"/n\" + \"Ålder: \" + ålder + \"/n\" + \"Telefon: \" + str(telefon)\n",
    "\n",
    "print(personuppg)"
   ]
  },
  {
   "source": [
    "## Indexering"
   ],
   "cell_type": "markdown",
   "metadata": {}
  },
  {
   "cell_type": "code",
   "execution_count": 9,
   "metadata": {},
   "outputs": [
    {
     "output_type": "stream",
     "name": "stdout",
     "text": [
      "Alfabetet innehåller 29 bokstäver\nBokstav på index 0: a\nBokstav på index -2: ä\nBokstav på index 6: g\nAlfabetet baklänges: öäåzyxwvutsrqponmlkjihgfedcba\n"
     ]
    }
   ],
   "source": [
    "alfabet = \"abcdefghijklmnopqrstuvwxyzåäö\"\n",
    "\n",
    "# len() funktion - ger längden på ett fält/array/lista\n",
    "print(f\"Alfabetet innehåller {len(alfabet)} bokstäver\")\n",
    "\n",
    "# indexera\n",
    "print(f\"Bokstav på index 0: {alfabet[0]}\")\n",
    "print(f\"Bokstav på index -2: {alfabet[-2]}\")\n",
    "print(f\"Bokstav på index 6: {alfabet[6]}\")\n",
    "print(f\"Alfabetet baklänges: {alfabet[::-1]}\")"
   ]
  },
  {
   "source": [
    "## Split()"
   ],
   "cell_type": "markdown",
   "metadata": {}
  },
  {
   "cell_type": "code",
   "execution_count": 3,
   "metadata": {},
   "outputs": [
    {
     "output_type": "stream",
     "name": "stdout",
     "text": [
      "['Mattematik', 'programmering', 'teknik', 'webbutveckling', 'fysik']\n['rödcurry', 'rödcurry', 'rödcurry', 'rödcurry']\nJag älskar att äta rödcurry\nJag älskar att äta rödcurry\nJag älskar att äta rödcurry\nJag älskar att äta rödcurry\n"
     ]
    }
   ],
   "source": [
    "favoritämnen = \"Mattematik programmering teknik webbutveckling fysik\"\n",
    "favoritmat = \"rödcurry rödcurry rödcurry rödcurry\"\n",
    "\n",
    "# split() speparerar en sträng\n",
    "favoritämnen = favoritämnen.split()\n",
    "favoritmat = favoritmat.split()\n",
    "\n",
    "print(favoritämnen)\n",
    "print(favoritmat)\n",
    "\n",
    "for mat in favoritmat:\n",
    "    print(f\"Jag älskar att äta {mat}\")"
   ]
  },
  {
   "cell_type": "code",
   "execution_count": null,
   "metadata": {},
   "outputs": [],
   "source": []
  }
 ]
}