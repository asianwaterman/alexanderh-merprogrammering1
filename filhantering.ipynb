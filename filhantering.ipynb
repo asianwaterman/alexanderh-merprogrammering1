{
 "metadata": {
  "language_info": {
   "codemirror_mode": {
    "name": "ipython",
    "version": 3
   },
   "file_extension": ".py",
   "mimetype": "text/x-python",
   "name": "python",
   "nbconvert_exporter": "python",
   "pygments_lexer": "ipython3",
   "version": "3.8.3-final"
  },
  "orig_nbformat": 2,
  "kernelspec": {
   "name": "python3",
   "display_name": "Python 3.8.3 64-bit (conda)",
   "metadata": {
    "interpreter": {
     "hash": "1ac8037a84088f45a7e3ea4484c3717017a662ee28aa9a2809eaac560ae046b3"
    }
   }
  }
 },
 "nbformat": 4,
 "nbformat_minor": 2,
 "cells": [
  {
   "cell_type": "code",
   "execution_count": 42,
   "metadata": {},
   "outputs": [
    {
     "output_type": "stream",
     "name": "stdout",
     "text": [
      "[1, 1, 2, 1, 6, 3, 6, 5, 2, 1]\n[1, 1, 1, 1, 2, 2, 3, 5, 6, 6]\n"
     ]
    }
   ],
   "source": [
    "import random as rnd\n",
    "\n",
    "kast = []\n",
    "antal = 0\n",
    "\n",
    "for i in range(10):\n",
    "    tarning = rnd.randint(1,6)\n",
    "    kast.append(tarning)\n",
    "    if tarning == 5:\n",
    "        antal += 1\n",
    "\n",
    "print(kast)\n",
    "\n",
    "kast2 = sorted(kast)\n",
    "\n",
    "print(kast2)\n",
    "\n",
    "\n",
    "with open(\"diceRoll.txt\", \"w\") as f1:\n",
    "    f1.write(f\"{kast} \\n{kast2} \\nAntal femmor: {antal}\")\n",
    "\n",
    "\n",
    "\n",
    "\n",
    "\n"
   ]
  },
  {
   "cell_type": "code",
   "execution_count": null,
   "metadata": {},
   "outputs": [],
   "source": [
    "with open(\"Provresultat.txt\", \"w\") as f1:\n",
    "    "
   ]
  }
 ]
}